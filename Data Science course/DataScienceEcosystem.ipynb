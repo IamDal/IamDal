{
 "cells": [
  {
   "cell_type": "markdown",
   "id": "f36ee747-61d8-4cc6-af5b-7668d8ea2bbd",
   "metadata": {},
   "source": [
    "# Data Science Tools and Ecosystem"
   ]
  },
  {
   "cell_type": "markdown",
   "id": "a2225453-e833-464e-abf8-900dd59230ab",
   "metadata": {},
   "source": [
    "In this notebook, Data Science Tools and Ecosystem are summarized."
   ]
  },
  {
   "cell_type": "markdown",
   "id": "37617588-5581-4b57-9d9d-a72778bd845d",
   "metadata": {},
   "source": [
    "- List some popular Languages used by data science\n",
    "- List come commonly used data science library\n",
    "- List some common data science tools\n",
    "- Perform some simple arithmetic operations"
   ]
  },
  {
   "cell_type": "markdown",
   "id": "6bf34f93-39ab-4d8a-9c95-48c5d1c2e56a",
   "metadata": {},
   "source": [
    "Some of the popular languages that Data Scientists use are:"
   ]
  },
  {
   "cell_type": "markdown",
   "id": "3afe5975-bd6a-4fec-9122-3dece1d8b692",
   "metadata": {},
   "source": [
    "1. Python\n",
    "2. R\n",
    "3. Julia\n",
    "4. Java"
   ]
  },
  {
   "cell_type": "markdown",
   "id": "79649e34-d0e9-4169-ac02-63e30207d3dc",
   "metadata": {},
   "source": [
    "Some of the commonly used libraries used by Data Scientists include:"
   ]
  },
  {
   "cell_type": "markdown",
   "id": "3e605508-5a51-47f1-b5ae-a3f6f8fa6fcf",
   "metadata": {},
   "source": [
    "1. PyTorch\n",
    "2. ggplot\n",
    "3. Scikit-learn\n",
    "4. TensorFlow\n",
    "5. Matplotlib"
   ]
  },
  {
   "cell_type": "markdown",
   "id": "3276539f-5b64-4f1d-91e0-33441d6a5710",
   "metadata": {
    "tags": []
   },
   "source": [
    "|Data Science Tools|\n",
    "|------------------|\n",
    "| Matplotlib |\n",
    "| ggplot |\n",
    "| Pandas |\n",
    "| NumPy |\n",
    "| Tableau |\n"
   ]
  },
  {
   "cell_type": "markdown",
   "id": "911a1ffd-4627-40f8-8c72-319503ac336a",
   "metadata": {},
   "source": [
    "### Below are a few examples of evaluating arithmetic expressions in Python"
   ]
  },
  {
   "cell_type": "code",
   "execution_count": 4,
   "id": "6376471b-b25b-4832-926d-9ee34cb94a68",
   "metadata": {
    "tags": []
   },
   "outputs": [],
   "source": [
    "# This a simple arithmetic expression to mutiply then add integers"
   ]
  },
  {
   "cell_type": "code",
   "execution_count": 5,
   "id": "3a6a6892-26b1-4ada-9246-9f3f772d354b",
   "metadata": {
    "tags": []
   },
   "outputs": [
    {
     "data": {
      "text/plain": [
       "17"
      ]
     },
     "execution_count": 5,
     "metadata": {},
     "output_type": "execute_result"
    }
   ],
   "source": [
    "(3*4)+5"
   ]
  },
  {
   "cell_type": "code",
   "execution_count": 6,
   "id": "caacb1f8-2529-46bb-ab81-3cbbf1e49929",
   "metadata": {
    "tags": []
   },
   "outputs": [],
   "source": [
    "# This will convert 200 minutes to hours by diving by 60"
   ]
  },
  {
   "cell_type": "code",
   "execution_count": 7,
   "id": "a36957f1-faf4-4de0-86a8-0d8b5b8b12cd",
   "metadata": {
    "tags": []
   },
   "outputs": [
    {
     "data": {
      "text/plain": [
       "3.3333333333333335"
      ]
     },
     "execution_count": 7,
     "metadata": {},
     "output_type": "execute_result"
    }
   ],
   "source": [
    "200/60"
   ]
  },
  {
   "cell_type": "markdown",
   "id": "033aaac4-ac89-4398-8fde-7ef3a7b319a1",
   "metadata": {},
   "source": [
    "## Aurthor"
   ]
  },
  {
   "cell_type": "markdown",
   "id": "db92c989-8ad1-48a0-a163-923b4e7a8f59",
   "metadata": {},
   "source": [
    "Dalton R. Burton"
   ]
  }
 ],
 "metadata": {
  "kernelspec": {
   "display_name": "Python",
   "language": "python",
   "name": "conda-env-python-py"
  },
  "language_info": {
   "codemirror_mode": {
    "name": "ipython",
    "version": 3
   },
   "file_extension": ".py",
   "mimetype": "text/x-python",
   "name": "python",
   "nbconvert_exporter": "python",
   "pygments_lexer": "ipython3",
   "version": "3.7.12"
  }
 },
 "nbformat": 4,
 "nbformat_minor": 5
}
