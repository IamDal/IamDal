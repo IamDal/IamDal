{
 "cells": [
  {
   "cell_type": "code",
   "execution_count": 1,
   "id": "0d294c4d",
   "metadata": {
    "_cell_guid": "b1076dfc-b9ad-4769-8c92-a6c4dae69d19",
    "_uuid": "8f2839f25d086af736a60e9eeb907d3b93b6e0e5",
    "execution": {
     "iopub.execute_input": "2023-09-10T10:57:42.712820Z",
     "iopub.status.busy": "2023-09-10T10:57:42.712301Z",
     "iopub.status.idle": "2023-09-10T10:57:42.729588Z",
     "shell.execute_reply": "2023-09-10T10:57:42.728097Z"
    },
    "papermill": {
     "duration": 0.034029,
     "end_time": "2023-09-10T10:57:42.732147",
     "exception": false,
     "start_time": "2023-09-10T10:57:42.698118",
     "status": "completed"
    },
    "tags": []
   },
   "outputs": [
    {
     "name": "stdout",
     "output_type": "stream",
     "text": [
      "/kaggle/input/titanic/train.csv\n",
      "/kaggle/input/titanic/test.csv\n",
      "/kaggle/input/titanic/gender_submission.csv\n"
     ]
    }
   ],
   "source": [
    "# This Python 3 environment comes with many helpful analytics libraries installed\n",
    "# It is defined by the kaggle/python Docker image: https://github.com/kaggle/docker-python\n",
    "# For example, here's several helpful packages to load\n",
    "\n",
    "import numpy as np # linear algebra\n",
    "import pandas as pd # data processing, CSV file I/O (e.g. pd.read_csv)\n",
    "import matplotlib.pyplot as plt\n",
    "# Input data files are available in the read-only \"../input/\" directory\n",
    "# For example, running this (by clicking run or pressing Shift+Enter) will list all files under the input directory\n",
    "\n",
    "import os\n",
    "for dirname, _, filenames in os.walk('/kaggle/input'):\n",
    "    for filename in filenames:\n",
    "        print(os.path.join(dirname, filename))\n",
    "\n",
    "# You can write up to 20GB to the current directory (/kaggle/working/) that gets preserved as output when you create a version using \"Save & Run All\" \n",
    "# You can also write temporary files to /kaggle/temp/, but they won't be saved outside of the current session"
   ]
  },
  {
   "cell_type": "markdown",
   "id": "40493f25",
   "metadata": {
    "papermill": {
     "duration": 0.007804,
     "end_time": "2023-09-10T10:57:42.748298",
     "exception": false,
     "start_time": "2023-09-10T10:57:42.740494",
     "status": "completed"
    },
    "tags": []
   },
   "source": [
    "### The above code shows where the files are stored."
   ]
  },
  {
   "cell_type": "code",
   "execution_count": 2,
   "id": "31b314e4",
   "metadata": {
    "execution": {
     "iopub.execute_input": "2023-09-10T10:57:42.765954Z",
     "iopub.status.busy": "2023-09-10T10:57:42.765508Z",
     "iopub.status.idle": "2023-09-10T10:57:42.817937Z",
     "shell.execute_reply": "2023-09-10T10:57:42.816910Z"
    },
    "papermill": {
     "duration": 0.064071,
     "end_time": "2023-09-10T10:57:42.820269",
     "exception": false,
     "start_time": "2023-09-10T10:57:42.756198",
     "status": "completed"
    },
    "tags": []
   },
   "outputs": [
    {
     "data": {
      "text/html": [
       "<div>\n",
       "<style scoped>\n",
       "    .dataframe tbody tr th:only-of-type {\n",
       "        vertical-align: middle;\n",
       "    }\n",
       "\n",
       "    .dataframe tbody tr th {\n",
       "        vertical-align: top;\n",
       "    }\n",
       "\n",
       "    .dataframe thead th {\n",
       "        text-align: right;\n",
       "    }\n",
       "</style>\n",
       "<table border=\"1\" class=\"dataframe\">\n",
       "  <thead>\n",
       "    <tr style=\"text-align: right;\">\n",
       "      <th></th>\n",
       "      <th>PassengerId</th>\n",
       "      <th>Survived</th>\n",
       "      <th>Pclass</th>\n",
       "      <th>Name</th>\n",
       "      <th>Sex</th>\n",
       "      <th>Age</th>\n",
       "      <th>SibSp</th>\n",
       "      <th>Parch</th>\n",
       "      <th>Ticket</th>\n",
       "      <th>Fare</th>\n",
       "      <th>Cabin</th>\n",
       "      <th>Embarked</th>\n",
       "    </tr>\n",
       "  </thead>\n",
       "  <tbody>\n",
       "    <tr>\n",
       "      <th>0</th>\n",
       "      <td>1</td>\n",
       "      <td>0</td>\n",
       "      <td>3</td>\n",
       "      <td>Braund, Mr. Owen Harris</td>\n",
       "      <td>male</td>\n",
       "      <td>22.0</td>\n",
       "      <td>1</td>\n",
       "      <td>0</td>\n",
       "      <td>A/5 21171</td>\n",
       "      <td>7.2500</td>\n",
       "      <td>NaN</td>\n",
       "      <td>S</td>\n",
       "    </tr>\n",
       "    <tr>\n",
       "      <th>1</th>\n",
       "      <td>2</td>\n",
       "      <td>1</td>\n",
       "      <td>1</td>\n",
       "      <td>Cumings, Mrs. John Bradley (Florence Briggs Th...</td>\n",
       "      <td>female</td>\n",
       "      <td>38.0</td>\n",
       "      <td>1</td>\n",
       "      <td>0</td>\n",
       "      <td>PC 17599</td>\n",
       "      <td>71.2833</td>\n",
       "      <td>C85</td>\n",
       "      <td>C</td>\n",
       "    </tr>\n",
       "    <tr>\n",
       "      <th>2</th>\n",
       "      <td>3</td>\n",
       "      <td>1</td>\n",
       "      <td>3</td>\n",
       "      <td>Heikkinen, Miss. Laina</td>\n",
       "      <td>female</td>\n",
       "      <td>26.0</td>\n",
       "      <td>0</td>\n",
       "      <td>0</td>\n",
       "      <td>STON/O2. 3101282</td>\n",
       "      <td>7.9250</td>\n",
       "      <td>NaN</td>\n",
       "      <td>S</td>\n",
       "    </tr>\n",
       "    <tr>\n",
       "      <th>3</th>\n",
       "      <td>4</td>\n",
       "      <td>1</td>\n",
       "      <td>1</td>\n",
       "      <td>Futrelle, Mrs. Jacques Heath (Lily May Peel)</td>\n",
       "      <td>female</td>\n",
       "      <td>35.0</td>\n",
       "      <td>1</td>\n",
       "      <td>0</td>\n",
       "      <td>113803</td>\n",
       "      <td>53.1000</td>\n",
       "      <td>C123</td>\n",
       "      <td>S</td>\n",
       "    </tr>\n",
       "    <tr>\n",
       "      <th>4</th>\n",
       "      <td>5</td>\n",
       "      <td>0</td>\n",
       "      <td>3</td>\n",
       "      <td>Allen, Mr. William Henry</td>\n",
       "      <td>male</td>\n",
       "      <td>35.0</td>\n",
       "      <td>0</td>\n",
       "      <td>0</td>\n",
       "      <td>373450</td>\n",
       "      <td>8.0500</td>\n",
       "      <td>NaN</td>\n",
       "      <td>S</td>\n",
       "    </tr>\n",
       "  </tbody>\n",
       "</table>\n",
       "</div>"
      ],
      "text/plain": [
       "   PassengerId  Survived  Pclass  \\\n",
       "0            1         0       3   \n",
       "1            2         1       1   \n",
       "2            3         1       3   \n",
       "3            4         1       1   \n",
       "4            5         0       3   \n",
       "\n",
       "                                                Name     Sex   Age  SibSp  \\\n",
       "0                            Braund, Mr. Owen Harris    male  22.0      1   \n",
       "1  Cumings, Mrs. John Bradley (Florence Briggs Th...  female  38.0      1   \n",
       "2                             Heikkinen, Miss. Laina  female  26.0      0   \n",
       "3       Futrelle, Mrs. Jacques Heath (Lily May Peel)  female  35.0      1   \n",
       "4                           Allen, Mr. William Henry    male  35.0      0   \n",
       "\n",
       "   Parch            Ticket     Fare Cabin Embarked  \n",
       "0      0         A/5 21171   7.2500   NaN        S  \n",
       "1      0          PC 17599  71.2833   C85        C  \n",
       "2      0  STON/O2. 3101282   7.9250   NaN        S  \n",
       "3      0            113803  53.1000  C123        S  \n",
       "4      0            373450   8.0500   NaN        S  "
      ]
     },
     "execution_count": 2,
     "metadata": {},
     "output_type": "execute_result"
    }
   ],
   "source": [
    "# Use pandas read_csv to load csv into notebook\n",
    "train_data = pd.read_csv(\"/kaggle/input/titanic/train.csv\")\n",
    "\n",
    "# prints the first 5 rows of the data\n",
    "train_data.head()"
   ]
  },
  {
   "cell_type": "code",
   "execution_count": 3,
   "id": "69ab9421",
   "metadata": {
    "execution": {
     "iopub.execute_input": "2023-09-10T10:57:42.839616Z",
     "iopub.status.busy": "2023-09-10T10:57:42.839132Z",
     "iopub.status.idle": "2023-09-10T10:57:42.863892Z",
     "shell.execute_reply": "2023-09-10T10:57:42.862532Z"
    },
    "papermill": {
     "duration": 0.038151,
     "end_time": "2023-09-10T10:57:42.866815",
     "exception": false,
     "start_time": "2023-09-10T10:57:42.828664",
     "status": "completed"
    },
    "tags": []
   },
   "outputs": [
    {
     "data": {
      "text/html": [
       "<div>\n",
       "<style scoped>\n",
       "    .dataframe tbody tr th:only-of-type {\n",
       "        vertical-align: middle;\n",
       "    }\n",
       "\n",
       "    .dataframe tbody tr th {\n",
       "        vertical-align: top;\n",
       "    }\n",
       "\n",
       "    .dataframe thead th {\n",
       "        text-align: right;\n",
       "    }\n",
       "</style>\n",
       "<table border=\"1\" class=\"dataframe\">\n",
       "  <thead>\n",
       "    <tr style=\"text-align: right;\">\n",
       "      <th></th>\n",
       "      <th>PassengerId</th>\n",
       "      <th>Pclass</th>\n",
       "      <th>Name</th>\n",
       "      <th>Sex</th>\n",
       "      <th>Age</th>\n",
       "      <th>SibSp</th>\n",
       "      <th>Parch</th>\n",
       "      <th>Ticket</th>\n",
       "      <th>Fare</th>\n",
       "      <th>Cabin</th>\n",
       "      <th>Embarked</th>\n",
       "    </tr>\n",
       "  </thead>\n",
       "  <tbody>\n",
       "    <tr>\n",
       "      <th>0</th>\n",
       "      <td>892</td>\n",
       "      <td>3</td>\n",
       "      <td>Kelly, Mr. James</td>\n",
       "      <td>male</td>\n",
       "      <td>34.5</td>\n",
       "      <td>0</td>\n",
       "      <td>0</td>\n",
       "      <td>330911</td>\n",
       "      <td>7.8292</td>\n",
       "      <td>NaN</td>\n",
       "      <td>Q</td>\n",
       "    </tr>\n",
       "    <tr>\n",
       "      <th>1</th>\n",
       "      <td>893</td>\n",
       "      <td>3</td>\n",
       "      <td>Wilkes, Mrs. James (Ellen Needs)</td>\n",
       "      <td>female</td>\n",
       "      <td>47.0</td>\n",
       "      <td>1</td>\n",
       "      <td>0</td>\n",
       "      <td>363272</td>\n",
       "      <td>7.0000</td>\n",
       "      <td>NaN</td>\n",
       "      <td>S</td>\n",
       "    </tr>\n",
       "    <tr>\n",
       "      <th>2</th>\n",
       "      <td>894</td>\n",
       "      <td>2</td>\n",
       "      <td>Myles, Mr. Thomas Francis</td>\n",
       "      <td>male</td>\n",
       "      <td>62.0</td>\n",
       "      <td>0</td>\n",
       "      <td>0</td>\n",
       "      <td>240276</td>\n",
       "      <td>9.6875</td>\n",
       "      <td>NaN</td>\n",
       "      <td>Q</td>\n",
       "    </tr>\n",
       "    <tr>\n",
       "      <th>3</th>\n",
       "      <td>895</td>\n",
       "      <td>3</td>\n",
       "      <td>Wirz, Mr. Albert</td>\n",
       "      <td>male</td>\n",
       "      <td>27.0</td>\n",
       "      <td>0</td>\n",
       "      <td>0</td>\n",
       "      <td>315154</td>\n",
       "      <td>8.6625</td>\n",
       "      <td>NaN</td>\n",
       "      <td>S</td>\n",
       "    </tr>\n",
       "    <tr>\n",
       "      <th>4</th>\n",
       "      <td>896</td>\n",
       "      <td>3</td>\n",
       "      <td>Hirvonen, Mrs. Alexander (Helga E Lindqvist)</td>\n",
       "      <td>female</td>\n",
       "      <td>22.0</td>\n",
       "      <td>1</td>\n",
       "      <td>1</td>\n",
       "      <td>3101298</td>\n",
       "      <td>12.2875</td>\n",
       "      <td>NaN</td>\n",
       "      <td>S</td>\n",
       "    </tr>\n",
       "  </tbody>\n",
       "</table>\n",
       "</div>"
      ],
      "text/plain": [
       "   PassengerId  Pclass                                          Name     Sex  \\\n",
       "0          892       3                              Kelly, Mr. James    male   \n",
       "1          893       3              Wilkes, Mrs. James (Ellen Needs)  female   \n",
       "2          894       2                     Myles, Mr. Thomas Francis    male   \n",
       "3          895       3                              Wirz, Mr. Albert    male   \n",
       "4          896       3  Hirvonen, Mrs. Alexander (Helga E Lindqvist)  female   \n",
       "\n",
       "    Age  SibSp  Parch   Ticket     Fare Cabin Embarked  \n",
       "0  34.5      0      0   330911   7.8292   NaN        Q  \n",
       "1  47.0      1      0   363272   7.0000   NaN        S  \n",
       "2  62.0      0      0   240276   9.6875   NaN        Q  \n",
       "3  27.0      0      0   315154   8.6625   NaN        S  \n",
       "4  22.0      1      1  3101298  12.2875   NaN        S  "
      ]
     },
     "execution_count": 3,
     "metadata": {},
     "output_type": "execute_result"
    }
   ],
   "source": [
    "# Use pandas read_csv to load csv into notebook\n",
    "test_data = pd.read_csv(\"/kaggle/input/titanic/test.csv\")\n",
    "\n",
    "# prints the first 5 rows of the data\n",
    "test_data.head()"
   ]
  },
  {
   "cell_type": "markdown",
   "id": "a36e372d",
   "metadata": {
    "papermill": {
     "duration": 0.008075,
     "end_time": "2023-09-10T10:57:42.883587",
     "exception": false,
     "start_time": "2023-09-10T10:57:42.875512",
     "status": "completed"
    },
    "tags": []
   },
   "source": [
    "## Preparing the Dataset"
   ]
  },
  {
   "cell_type": "markdown",
   "id": "80af0bd2",
   "metadata": {
    "papermill": {
     "duration": 0.009224,
     "end_time": "2023-09-10T10:57:42.901209",
     "exception": false,
     "start_time": "2023-09-10T10:57:42.891985",
     "status": "completed"
    },
    "tags": []
   },
   "source": [
    "Let's create functions to handle some missing data.\n",
    "After perusing the tables, we see there are missing data in the \"Age\", \"Cabin\", \"Embarked\" and \"Fare\" columns."
   ]
  },
  {
   "cell_type": "code",
   "execution_count": 4,
   "id": "132164d5",
   "metadata": {
    "execution": {
     "iopub.execute_input": "2023-09-10T10:57:42.920025Z",
     "iopub.status.busy": "2023-09-10T10:57:42.919627Z",
     "iopub.status.idle": "2023-09-10T10:57:42.925701Z",
     "shell.execute_reply": "2023-09-10T10:57:42.924644Z"
    },
    "papermill": {
     "duration": 0.018354,
     "end_time": "2023-09-10T10:57:42.927914",
     "exception": false,
     "start_time": "2023-09-10T10:57:42.909560",
     "status": "completed"
    },
    "tags": []
   },
   "outputs": [],
   "source": [
    "# define functions to fill missing values with mode or mean\n",
    "def nan_to_mode(df_col):\n",
    "    mode = df_col.mode()\n",
    "    df_col.fillna(mode, inplace = True)\n",
    "    return df_col\n",
    "\n",
    "def nan_to_mean(df_col):\n",
    "    mean = df_col.mean()\n",
    "    df_col.fillna(mean, inplace = True)\n",
    "    return df_col"
   ]
  },
  {
   "cell_type": "code",
   "execution_count": 5,
   "id": "a0453505",
   "metadata": {
    "execution": {
     "iopub.execute_input": "2023-09-10T10:57:42.946825Z",
     "iopub.status.busy": "2023-09-10T10:57:42.946325Z",
     "iopub.status.idle": "2023-09-10T10:57:42.965971Z",
     "shell.execute_reply": "2023-09-10T10:57:42.965088Z"
    },
    "papermill": {
     "duration": 0.032108,
     "end_time": "2023-09-10T10:57:42.968518",
     "exception": false,
     "start_time": "2023-09-10T10:57:42.936410",
     "status": "completed"
    },
    "tags": []
   },
   "outputs": [
    {
     "name": "stdout",
     "output_type": "stream",
     "text": [
      "Missing values replaced successfully!\n"
     ]
    }
   ],
   "source": [
    "# replace missing values with the mode or average values in each set\n",
    "nan_to_mode(train_data.Embarked)\n",
    "nan_to_mode(test_data.Embarked)\n",
    "\n",
    "nan_to_mean(train_data.Fare)\n",
    "nan_to_mean(test_data.Fare)\n",
    "\n",
    "nan_to_mean(train_data.Age)\n",
    "nan_to_mean(test_data.Age)\n",
    "\n",
    "print(\"Missing values replaced successfully!\")"
   ]
  },
  {
   "cell_type": "markdown",
   "id": "8eaacff4",
   "metadata": {
    "papermill": {
     "duration": 0.009393,
     "end_time": "2023-09-10T10:57:42.987129",
     "exception": false,
     "start_time": "2023-09-10T10:57:42.977736",
     "status": "completed"
    },
    "tags": []
   },
   "source": [
    "Let's pay close attention to the \"Cabin\" column. Most of the data is missing. "
   ]
  },
  {
   "cell_type": "code",
   "execution_count": 6,
   "id": "86022355",
   "metadata": {
    "execution": {
     "iopub.execute_input": "2023-09-10T10:57:43.007379Z",
     "iopub.status.busy": "2023-09-10T10:57:43.006770Z",
     "iopub.status.idle": "2023-09-10T10:57:43.041938Z",
     "shell.execute_reply": "2023-09-10T10:57:43.040404Z"
    },
    "papermill": {
     "duration": 0.048579,
     "end_time": "2023-09-10T10:57:43.044646",
     "exception": false,
     "start_time": "2023-09-10T10:57:42.996067",
     "status": "completed"
    },
    "tags": []
   },
   "outputs": [
    {
     "data": {
      "text/html": [
       "<div>\n",
       "<style scoped>\n",
       "    .dataframe tbody tr th:only-of-type {\n",
       "        vertical-align: middle;\n",
       "    }\n",
       "\n",
       "    .dataframe tbody tr th {\n",
       "        vertical-align: top;\n",
       "    }\n",
       "\n",
       "    .dataframe thead th {\n",
       "        text-align: right;\n",
       "    }\n",
       "</style>\n",
       "<table border=\"1\" class=\"dataframe\">\n",
       "  <thead>\n",
       "    <tr style=\"text-align: right;\">\n",
       "      <th></th>\n",
       "      <th>Survived</th>\n",
       "      <th>Missing Cabin #</th>\n",
       "      <th>count</th>\n",
       "    </tr>\n",
       "  </thead>\n",
       "  <tbody>\n",
       "    <tr>\n",
       "      <th>0</th>\n",
       "      <td>0</td>\n",
       "      <td>True</td>\n",
       "      <td>481</td>\n",
       "    </tr>\n",
       "    <tr>\n",
       "      <th>1</th>\n",
       "      <td>0</td>\n",
       "      <td>False</td>\n",
       "      <td>68</td>\n",
       "    </tr>\n",
       "    <tr>\n",
       "      <th>2</th>\n",
       "      <td>1</td>\n",
       "      <td>True</td>\n",
       "      <td>206</td>\n",
       "    </tr>\n",
       "    <tr>\n",
       "      <th>3</th>\n",
       "      <td>1</td>\n",
       "      <td>False</td>\n",
       "      <td>136</td>\n",
       "    </tr>\n",
       "  </tbody>\n",
       "</table>\n",
       "</div>"
      ],
      "text/plain": [
       "   Survived  Missing Cabin #  count\n",
       "0         0             True    481\n",
       "1         0            False     68\n",
       "2         1             True    206\n",
       "3         1            False    136"
      ]
     },
     "execution_count": 6,
     "metadata": {},
     "output_type": "execute_result"
    }
   ],
   "source": [
    "cabin_data = train_data[\"Cabin\"].isna()\n",
    "train_data['Missing Cabin #'] = cabin_data\n",
    "train_data[[\"Survived\",\"Missing Cabin #\"]].groupby(['Survived'],as_index = False).value_counts()"
   ]
  },
  {
   "cell_type": "markdown",
   "id": "25d90e93",
   "metadata": {
    "papermill": {
     "duration": 0.008712,
     "end_time": "2023-09-10T10:57:43.062334",
     "exception": false,
     "start_time": "2023-09-10T10:57:43.053622",
     "status": "completed"
    },
    "tags": []
   },
   "source": [
    "### We see that the majority of survivors have a cabin number unlike ones who did not survive.\n",
    "This means that if there is no cabin number, the chances that a person survived are low.\n",
    "Lets make this into a binary feature."
   ]
  },
  {
   "cell_type": "code",
   "execution_count": 7,
   "id": "dee6456c",
   "metadata": {
    "execution": {
     "iopub.execute_input": "2023-09-10T10:57:43.082460Z",
     "iopub.status.busy": "2023-09-10T10:57:43.081456Z",
     "iopub.status.idle": "2023-09-10T10:57:43.230287Z",
     "shell.execute_reply": "2023-09-10T10:57:43.228937Z"
    },
    "papermill": {
     "duration": 0.162077,
     "end_time": "2023-09-10T10:57:43.232981",
     "exception": false,
     "start_time": "2023-09-10T10:57:43.070904",
     "status": "completed"
    },
    "tags": []
   },
   "outputs": [
    {
     "name": "stdout",
     "output_type": "stream",
     "text": [
      "Missing values replaced successfully!\n"
     ]
    },
    {
     "name": "stderr",
     "output_type": "stream",
     "text": [
      "/tmp/ipykernel_20/2469313052.py:4: SettingWithCopyWarning: \n",
      "A value is trying to be set on a copy of a slice from a DataFrame\n",
      "\n",
      "See the caveats in the documentation: https://pandas.pydata.org/pandas-docs/stable/user_guide/indexing.html#returning-a-view-versus-a-copy\n",
      "  train_data.Cabin[x] = 1\n",
      "/tmp/ipykernel_20/2469313052.py:9: SettingWithCopyWarning: \n",
      "A value is trying to be set on a copy of a slice from a DataFrame\n",
      "\n",
      "See the caveats in the documentation: https://pandas.pydata.org/pandas-docs/stable/user_guide/indexing.html#returning-a-view-versus-a-copy\n",
      "  test_data.Cabin[x] = 1\n"
     ]
    }
   ],
   "source": [
    "train_data.Cabin.fillna(0, inplace = True)\n",
    "for x in range(len(train_data.Cabin)):\n",
    "    if train_data.Cabin[x] != 0:\n",
    "        train_data.Cabin[x] = 1\n",
    "\n",
    "test_data.Cabin.fillna(0, inplace = True)\n",
    "for x in range(len(test_data.Cabin)):\n",
    "    if test_data.Cabin[x] != 0:\n",
    "        test_data.Cabin[x] = 1\n",
    "        \n",
    "print(\"Missing values replaced successfully!\")"
   ]
  },
  {
   "cell_type": "markdown",
   "id": "6b00b822",
   "metadata": {
    "papermill": {
     "duration": 0.008748,
     "end_time": "2023-09-10T10:57:43.250901",
     "exception": false,
     "start_time": "2023-09-10T10:57:43.242153",
     "status": "completed"
    },
    "tags": []
   },
   "source": [
    "## Training the model"
   ]
  },
  {
   "cell_type": "code",
   "execution_count": 8,
   "id": "d15785e0",
   "metadata": {
    "execution": {
     "iopub.execute_input": "2023-09-10T10:57:43.271270Z",
     "iopub.status.busy": "2023-09-10T10:57:43.270725Z",
     "iopub.status.idle": "2023-09-10T10:57:45.406712Z",
     "shell.execute_reply": "2023-09-10T10:57:45.404961Z"
    },
    "papermill": {
     "duration": 2.149732,
     "end_time": "2023-09-10T10:57:45.409624",
     "exception": false,
     "start_time": "2023-09-10T10:57:43.259892",
     "status": "completed"
    },
    "tags": []
   },
   "outputs": [
    {
     "name": "stderr",
     "output_type": "stream",
     "text": [
      "/opt/conda/lib/python3.10/site-packages/scipy/__init__.py:146: UserWarning: A NumPy version >=1.16.5 and <1.23.0 is required for this version of SciPy (detected version 1.23.5\n",
      "  warnings.warn(f\"A NumPy version >={np_minversion} and <{np_maxversion}\"\n",
      "/tmp/ipykernel_20/1362932633.py:7: FutureWarning: In a future version, the Index constructor will not infer numeric dtypes when passed object-dtype sequences (matching Series behavior)\n",
      "  X = pd.get_dummies(train_data[features])\n",
      "/tmp/ipykernel_20/1362932633.py:8: FutureWarning: In a future version, the Index constructor will not infer numeric dtypes when passed object-dtype sequences (matching Series behavior)\n",
      "  X_test = pd.get_dummies(test_data[features])\n"
     ]
    },
    {
     "name": "stdout",
     "output_type": "stream",
     "text": [
      "Your submission was successfully saved!\n"
     ]
    }
   ],
   "source": [
    "from sklearn.ensemble import RandomForestClassifier\n",
    "from sklearn.metrics import f1_score\n",
    "\n",
    "y = train_data[\"Survived\"]\n",
    "\n",
    "features = [\"Pclass\", \"Sex\", \"SibSp\", \"Parch\",\"Embarked\",\"Cabin\",\"Age\"]\n",
    "X = pd.get_dummies(train_data[features])\n",
    "X_test = pd.get_dummies(test_data[features])\n",
    "\n",
    "# Normalizing the values of the training and test set\n",
    "X = (X - X.mean())/X.std()\n",
    "X_test = (X_test - X_test.mean())/X_test.std()\n",
    "\n",
    "model = RandomForestClassifier(n_estimators=100, max_depth = 4, random_state = 0)\n",
    "model.fit(X, y)\n",
    "predictions = model.predict(X_test)\n",
    "\n",
    "output = pd.DataFrame({'PassengerId': test_data.PassengerId, 'Survived': predictions})\n",
    "output.to_csv('submission.csv', index = False)\n",
    "print(\"Your submission was successfully saved!\")"
   ]
  },
  {
   "cell_type": "code",
   "execution_count": 9,
   "id": "6cf47a56",
   "metadata": {
    "execution": {
     "iopub.execute_input": "2023-09-10T10:57:45.431424Z",
     "iopub.status.busy": "2023-09-10T10:57:45.430947Z",
     "iopub.status.idle": "2023-09-10T10:57:45.471213Z",
     "shell.execute_reply": "2023-09-10T10:57:45.469672Z"
    },
    "papermill": {
     "duration": 0.055809,
     "end_time": "2023-09-10T10:57:45.475377",
     "exception": false,
     "start_time": "2023-09-10T10:57:45.419568",
     "status": "completed"
    },
    "tags": []
   },
   "outputs": [
    {
     "name": "stdout",
     "output_type": "stream",
     "text": [
      "Training score:  0.7338345864661654\n"
     ]
    }
   ],
   "source": [
    "from sklearn.linear_model import LogisticRegression\n",
    "\n",
    "model = LogisticRegression(random_state=0).fit(X, y)\n",
    "print(\"Training score: \", f1_score(y, model.predict(X)))"
   ]
  },
  {
   "cell_type": "code",
   "execution_count": 10,
   "id": "899b61e0",
   "metadata": {
    "_cell_guid": "b1076dfc-b9ad-4769-8c92-a6c4dae69d19",
    "_uuid": "8f2839f25d086af736a60e9eeb907d3b93b6e0e5",
    "execution": {
     "iopub.execute_input": "2023-09-10T10:57:45.518081Z",
     "iopub.status.busy": "2023-09-10T10:57:45.517378Z",
     "iopub.status.idle": "2023-09-10T10:57:45.530456Z",
     "shell.execute_reply": "2023-09-10T10:57:45.529055Z"
    },
    "jupyter": {
     "source_hidden": true
    },
    "papermill": {
     "duration": 0.039235,
     "end_time": "2023-09-10T10:57:45.534557",
     "exception": false,
     "start_time": "2023-09-10T10:57:45.495322",
     "status": "completed"
    },
    "tags": []
   },
   "outputs": [
    {
     "name": "stdout",
     "output_type": "stream",
     "text": [
      "/kaggle/input/titanic/train.csv\n",
      "/kaggle/input/titanic/test.csv\n",
      "/kaggle/input/titanic/gender_submission.csv\n"
     ]
    }
   ],
   "source": [
    "# This Python 3 environment comes with many helpful analytics libraries installed\n",
    "# It is defined by the kaggle/python Docker image: https://github.com/kaggle/docker-python\n",
    "# For example, here's several helpful packages to load\n",
    "\n",
    "import numpy as np # linear algebra\n",
    "import pandas as pd # data processing, CSV file I/O (e.g. pd.read_csv)\n",
    "\n",
    "# Input data files are available in the read-only \"../input/\" directory\n",
    "# For example, running this (by clicking run or pressing Shift+Enter) will list all files under the input directory\n",
    "\n",
    "import os\n",
    "for dirname, _, filenames in os.walk('/kaggle/input'):\n",
    "    for filename in filenames:\n",
    "        print(os.path.join(dirname, filename))\n",
    "\n",
    "# You can write up to 20GB to the current directory (/kaggle/working/) that gets preserved as output when you create a version using \"Save & Run All\" \n",
    "# You can also write temporary files to /kaggle/temp/, but they won't be saved outside of the current session"
   ]
  },
  {
   "cell_type": "code",
   "execution_count": null,
   "id": "cd3bb7b2",
   "metadata": {
    "papermill": {
     "duration": 0.030176,
     "end_time": "2023-09-10T10:57:45.584590",
     "exception": false,
     "start_time": "2023-09-10T10:57:45.554414",
     "status": "completed"
    },
    "tags": []
   },
   "outputs": [],
   "source": []
  }
 ],
 "kernelspec": {
  "display_name": "Python 3",
  "language": "python",
  "name": "python3"
 },
 "language_info": {
  "codemirror_mode": {
   "name": "ipython",
   "version": 3
  },
  "file_extension": ".py",
  "mimetype": "text/x-python",
  "name": "python",
  "nbconvert_exporter": "python",
  "pygments_lexer": "ipython3",
  "version": "3.6.4"
 },
 "metadata": {
  "kernelspec": {
   "display_name": "Python 3",
   "language": "python",
   "name": "python3"
  },
  "language_info": {
   "codemirror_mode": {
    "name": "ipython",
    "version": 3
   },
   "file_extension": ".py",
   "mimetype": "text/x-python",
   "name": "python",
   "nbconvert_exporter": "python",
   "pygments_lexer": "ipython3",
   "version": "3.10.12"
  },
  "papermill": {
   "default_parameters": {},
   "duration": 17.743801,
   "end_time": "2023-09-10T10:57:47.024759",
   "environment_variables": {},
   "exception": null,
   "input_path": "__notebook__.ipynb",
   "output_path": "__notebook__.ipynb",
   "parameters": {},
   "start_time": "2023-09-10T10:57:29.280958",
   "version": "2.4.0"
  }
 },
 "nbformat": 4,
 "nbformat_minor": 5
}
